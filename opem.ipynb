{
 "cells": [
  {
   "cell_type": "markdown",
   "metadata": {},
   "source": [
    "# Robo-MZOIP - ocjene prihvatljivosti za ekološku mrežu Natura 2000"
   ]
  },
  {
   "cell_type": "markdown",
   "metadata": {},
   "source": [
    "## Uvod\n",
    "\n",
    "### Natura 2000\n",
    "\n",
    "Zakonski okvir: EU Direktiva o pticama (79/409/EEC), Direktiva o staništima (92/43/EEC)\n",
    "\n",
    "http://ec.europa.eu/environment/nature/legislation/birdsdirective/index_en.htm\n",
    "\n",
    "http://ec.europa.eu/environment/nature/legislation/habitatsdirective/index_en.htm\n",
    "\n",
    " * Područja očuvanja značajna za ptice\n",
    " * Područja očuvanja značajna za vrste i staništa\n",
    "\n",
    " * Postupak ocjene prihvatljivosti za ekološku mrežu\n",
    "  - Prethodna ocjena\n",
    "  - Glavna ocjena\n",
    "\n",
    "## Problem\n",
    "\n",
    " * Nepregledna stranica Ministarstva zaštite okoliša i energetike.\n",
    " * Dokumenti se dodaju na način da je nemoguće sustavno pratiti njihovo dodavanje.\n",
    "\n",
    "## Rješenje\n",
    "\n",
    " * Web scraper (python3 + requests + beautiful soup 4)\n",
    " * Twitter"
   ]
  },
  {
   "cell_type": "code",
   "execution_count": 82,
   "metadata": {},
   "outputs": [],
   "source": [
    "import argparse\n",
    "from datetime import datetime\n",
    "import os\n",
    "import re\n",
    "import sys\n",
    "import requests\n",
    "from bs4 import BeautifulSoup\n",
    "import pandas as pd"
   ]
  },
  {
   "cell_type": "markdown",
   "metadata": {},
   "source": [
    "Definicija stranice koja nas zanima:"
   ]
  },
  {
   "cell_type": "code",
   "execution_count": 83,
   "metadata": {},
   "outputs": [],
   "source": [
    "BASE_URL_OPEM = 'http://mzoe.hr/hr/priroda/ekoloska-mreza-natura-2000.html'"
   ]
  },
  {
   "cell_type": "markdown",
   "metadata": {},
   "source": [
    "Dohvaćanje html stranice, i kreiranje `soup` objekta sa stranice Ministarstva:"
   ]
  },
  {
   "cell_type": "code",
   "execution_count": 84,
   "metadata": {},
   "outputs": [],
   "source": [
    "def get_soup(full_url):\n",
    "    \"\"\"Dohvaca soup objekt s mreznih stranica.\n",
    "\n",
    "    Args:\n",
    "        full_url (str): path do stranice.\n",
    "    Returns:\n",
    "        soup: beautifulsoup object.\n",
    "    \"\"\"\n",
    "    r = requests.get(full_url)\n",
    "    soup = BeautifulSoup(r.content, 'lxml')\n",
    "    return soup"
   ]
  },
  {
   "cell_type": "code",
   "execution_count": 85,
   "metadata": {},
   "outputs": [],
   "source": [
    "soup = get_soup(BASE_URL_OPEM)"
   ]
  },
  {
   "cell_type": "markdown",
   "metadata": {},
   "source": [
    "### Glavne ocjene u nadležnosti Ministarstva"
   ]
  },
  {
   "cell_type": "code",
   "execution_count": 86,
   "metadata": {},
   "outputs": [],
   "source": [
    "opem = soup.find('div', 'accordion').find_all('div', 'accordion')\n",
    "a = opem[0].find_all('a')"
   ]
  },
  {
   "cell_type": "code",
   "execution_count": 87,
   "metadata": {},
   "outputs": [],
   "source": [
    "opem_raw = []\n",
    "for link in a:\n",
    "    red = [link.parent.parent.parent.previous_sibling.previous_sibling.get_text().strip(),\n",
    "           link.get_text(),\n",
    "           link.get('href')]\n",
    "    opem_raw.append(red)\n",
    "opem_pd = pd.DataFrame(opem_raw)"
   ]
  },
  {
   "cell_type": "code",
   "execution_count": 88,
   "metadata": {},
   "outputs": [
    {
     "data": {
      "text/html": [
       "<div>\n",
       "<style scoped>\n",
       "    .dataframe tbody tr th:only-of-type {\n",
       "        vertical-align: middle;\n",
       "    }\n",
       "\n",
       "    .dataframe tbody tr th {\n",
       "        vertical-align: top;\n",
       "    }\n",
       "\n",
       "    .dataframe thead th {\n",
       "        text-align: right;\n",
       "    }\n",
       "</style>\n",
       "<table border=\"1\" class=\"dataframe\">\n",
       "  <thead>\n",
       "    <tr style=\"text-align: right;\">\n",
       "      <th></th>\n",
       "      <th>0</th>\n",
       "      <th>1</th>\n",
       "      <th>2</th>\n",
       "    </tr>\n",
       "  </thead>\n",
       "  <tbody>\n",
       "    <tr>\n",
       "      <th>0</th>\n",
       "      <td>Uređenje vodnog puta rijeke Dunav kod Sotina n...</td>\n",
       "      <td>16.02.2018. - INFORMACIJA o zahtjevu za provođ...</td>\n",
       "      <td>/doc/16022018_-_informacija_o_zahtjevu_za_prov...</td>\n",
       "    </tr>\n",
       "    <tr>\n",
       "      <th>1</th>\n",
       "      <td>Uređenje vodnog puta rijeke Dunav kod Sotina n...</td>\n",
       "      <td>24.11.2015. - RJEŠENJE Ministarstva od 11. stu...</td>\n",
       "      <td>/doc/24112015_-_rjesenje_ministarstva_o_odbija...</td>\n",
       "    </tr>\n",
       "    <tr>\n",
       "      <th>2</th>\n",
       "      <td>Uređenje vodnog puta rijeke Dunav kod Sotina n...</td>\n",
       "      <td>02.10.2015. - INFORMACIJA o zahtjevu za provođ...</td>\n",
       "      <td>/doc/02102015_-_informacija_o_zahtjevu_za_prov...</td>\n",
       "    </tr>\n",
       "    <tr>\n",
       "      <th>3</th>\n",
       "      <td>Izgradnja cestovnog mosta preko rijeke Drave n...</td>\n",
       "      <td>13.12.2017. - INFORMACIJA o zahtjevu za provođ...</td>\n",
       "      <td>/doc/13122017_-_informacija_o_zahtjevu_za_prov...</td>\n",
       "    </tr>\n",
       "    <tr>\n",
       "      <th>4</th>\n",
       "      <td>Radovi sanacije korita, uklanjanje nanosa i ra...</td>\n",
       "      <td>05.12.2017. - OBAVIJEST o javnoj raspravi [PDF...</td>\n",
       "      <td>/doc/05122017_-_obavijest_o_javnoj_raspravi.pdf</td>\n",
       "    </tr>\n",
       "    <tr>\n",
       "      <th>5</th>\n",
       "      <td>Radovi sanacije korita, uklanjanje nanosa i ra...</td>\n",
       "      <td>05.12.2017. - STUDIJA Glavne ocjene prihvatlji...</td>\n",
       "      <td>/doc/05122017_-_studija_glavne_ocjene_prihvatl...</td>\n",
       "    </tr>\n",
       "    <tr>\n",
       "      <th>6</th>\n",
       "      <td>Radovi sanacije korita, uklanjanje nanosa i ra...</td>\n",
       "      <td>07.11.2017. - INFORMACIJA o zahtjevu za provođ...</td>\n",
       "      <td>/doc/07112017_-_informacija_o_zahtjevu_za_prov...</td>\n",
       "    </tr>\n",
       "    <tr>\n",
       "      <th>7</th>\n",
       "      <td>Pregrada na rukavcu starog toka rijeke Drave</td>\n",
       "      <td>22.11.2017. - RJEŠENJE Ministarstva od 21. stu...</td>\n",
       "      <td>/doc/22112017_-_rjesenje_ministarstva_od_21_st...</td>\n",
       "    </tr>\n",
       "    <tr>\n",
       "      <th>8</th>\n",
       "      <td>Pregrada na rukavcu starog toka rijeke Drave</td>\n",
       "      <td>12.09.2017. - OBAVIJEST o javnoj raspravi [PDF...</td>\n",
       "      <td>/doc/12092017_-_obavijest_o_javnoj_raspravi.pdf</td>\n",
       "    </tr>\n",
       "    <tr>\n",
       "      <th>9</th>\n",
       "      <td>Pregrada na rukavcu starog toka rijeke Drave</td>\n",
       "      <td>12.09.2017. - STUDIJA Glavne ocjene prihvatlji...</td>\n",
       "      <td>/doc/12092017_-_studija_glavne_ocjene_prihvatl...</td>\n",
       "    </tr>\n",
       "  </tbody>\n",
       "</table>\n",
       "</div>"
      ],
      "text/plain": [
       "                                                   0  \\\n",
       "0  Uređenje vodnog puta rijeke Dunav kod Sotina n...   \n",
       "1  Uređenje vodnog puta rijeke Dunav kod Sotina n...   \n",
       "2  Uređenje vodnog puta rijeke Dunav kod Sotina n...   \n",
       "3  Izgradnja cestovnog mosta preko rijeke Drave n...   \n",
       "4  Radovi sanacije korita, uklanjanje nanosa i ra...   \n",
       "5  Radovi sanacije korita, uklanjanje nanosa i ra...   \n",
       "6  Radovi sanacije korita, uklanjanje nanosa i ra...   \n",
       "7       Pregrada na rukavcu starog toka rijeke Drave   \n",
       "8       Pregrada na rukavcu starog toka rijeke Drave   \n",
       "9       Pregrada na rukavcu starog toka rijeke Drave   \n",
       "\n",
       "                                                   1  \\\n",
       "0  16.02.2018. - INFORMACIJA o zahtjevu za provođ...   \n",
       "1  24.11.2015. - RJEŠENJE Ministarstva od 11. stu...   \n",
       "2  02.10.2015. - INFORMACIJA o zahtjevu za provođ...   \n",
       "3  13.12.2017. - INFORMACIJA o zahtjevu za provođ...   \n",
       "4  05.12.2017. - OBAVIJEST o javnoj raspravi [PDF...   \n",
       "5  05.12.2017. - STUDIJA Glavne ocjene prihvatlji...   \n",
       "6  07.11.2017. - INFORMACIJA o zahtjevu za provođ...   \n",
       "7  22.11.2017. - RJEŠENJE Ministarstva od 21. stu...   \n",
       "8  12.09.2017. - OBAVIJEST o javnoj raspravi [PDF...   \n",
       "9  12.09.2017. - STUDIJA Glavne ocjene prihvatlji...   \n",
       "\n",
       "                                                   2  \n",
       "0  /doc/16022018_-_informacija_o_zahtjevu_za_prov...  \n",
       "1  /doc/24112015_-_rjesenje_ministarstva_o_odbija...  \n",
       "2  /doc/02102015_-_informacija_o_zahtjevu_za_prov...  \n",
       "3  /doc/13122017_-_informacija_o_zahtjevu_za_prov...  \n",
       "4    /doc/05122017_-_obavijest_o_javnoj_raspravi.pdf  \n",
       "5  /doc/05122017_-_studija_glavne_ocjene_prihvatl...  \n",
       "6  /doc/07112017_-_informacija_o_zahtjevu_za_prov...  \n",
       "7  /doc/22112017_-_rjesenje_ministarstva_od_21_st...  \n",
       "8    /doc/12092017_-_obavijest_o_javnoj_raspravi.pdf  \n",
       "9  /doc/12092017_-_studija_glavne_ocjene_prihvatl...  "
      ]
     },
     "execution_count": 88,
     "metadata": {},
     "output_type": "execute_result"
    }
   ],
   "source": [
    "opem_pd.head(10)"
   ]
  },
  {
   "cell_type": "markdown",
   "metadata": {},
   "source": [
    "### Glavne ocjene u nadležnosti županija/grada Zagreba"
   ]
  },
  {
   "cell_type": "code",
   "execution_count": 89,
   "metadata": {},
   "outputs": [],
   "source": [
    "a1 = opem[1].find_all('a')\n",
    "opem_z_raw = []\n",
    "for link in a1:\n",
    "    red = [link.parent.parent.parent.previous_sibling.previous_sibling.get_text().strip(),\n",
    "           link.get_text(),\n",
    "           link.get('href')]\n",
    "    opem_z_raw.append(red)\n",
    "opem_z_pd = pd.DataFrame(opem_zup_raw)"
   ]
  },
  {
   "cell_type": "code",
   "execution_count": 90,
   "metadata": {},
   "outputs": [
    {
     "data": {
      "text/html": [
       "<div>\n",
       "<style scoped>\n",
       "    .dataframe tbody tr th:only-of-type {\n",
       "        vertical-align: middle;\n",
       "    }\n",
       "\n",
       "    .dataframe tbody tr th {\n",
       "        vertical-align: top;\n",
       "    }\n",
       "\n",
       "    .dataframe thead th {\n",
       "        text-align: right;\n",
       "    }\n",
       "</style>\n",
       "<table border=\"1\" class=\"dataframe\">\n",
       "  <thead>\n",
       "    <tr style=\"text-align: right;\">\n",
       "      <th></th>\n",
       "      <th>0</th>\n",
       "      <th>1</th>\n",
       "      <th>2</th>\n",
       "    </tr>\n",
       "  </thead>\n",
       "  <tbody>\n",
       "    <tr>\n",
       "      <th>0</th>\n",
       "      <td>Zaštita naselja Gradac i grada Pleternice od v...</td>\n",
       "      <td>18.10.2016. - OBAVIJEST o provedbi javne raspr...</td>\n",
       "      <td>/doc/18102016_-_obavijest_o_provedbi_javne_ras...</td>\n",
       "    </tr>\n",
       "    <tr>\n",
       "      <th>1</th>\n",
       "      <td>Ekološka revitalizacija područja starog korita...</td>\n",
       "      <td>22.09.2016. - OBJAVA javne rasprave o Studiji ...</td>\n",
       "      <td>/doc/22092016_-_objava_javne_rasprave_o_studij...</td>\n",
       "    </tr>\n",
       "    <tr>\n",
       "      <th>2</th>\n",
       "      <td>Održavanje korita rijeke Dretulje na području ...</td>\n",
       "      <td>19.05.2016. - OBJAVA javne rasprave o Studiji ...</td>\n",
       "      <td>/doc/19052016_-_objava_javne_rasprave_o_studij...</td>\n",
       "    </tr>\n",
       "    <tr>\n",
       "      <th>3</th>\n",
       "      <td>Obnova desnog nasipa rijeke Save s obaloutvrda...</td>\n",
       "      <td>16.12.2015. - OBJAVA javne rasprave o Studiji ...</td>\n",
       "      <td>/doc/16122015_-_objava_javne_rasprave_o_studij...</td>\n",
       "    </tr>\n",
       "    <tr>\n",
       "      <th>4</th>\n",
       "      <td>Lječilišno-turistički kompleks 'Meline' u zalj...</td>\n",
       "      <td>05.11.2015. - OBJAVA javne rasprave o Studiji ...</td>\n",
       "      <td>/doc/05112015_-_informacija_o_pocetku_javne_ra...</td>\n",
       "    </tr>\n",
       "  </tbody>\n",
       "</table>\n",
       "</div>"
      ],
      "text/plain": [
       "                                                   0  \\\n",
       "0  Zaštita naselja Gradac i grada Pleternice od v...   \n",
       "1  Ekološka revitalizacija područja starog korita...   \n",
       "2  Održavanje korita rijeke Dretulje na području ...   \n",
       "3  Obnova desnog nasipa rijeke Save s obaloutvrda...   \n",
       "4  Lječilišno-turistički kompleks 'Meline' u zalj...   \n",
       "\n",
       "                                                   1  \\\n",
       "0  18.10.2016. - OBAVIJEST o provedbi javne raspr...   \n",
       "1  22.09.2016. - OBJAVA javne rasprave o Studiji ...   \n",
       "2  19.05.2016. - OBJAVA javne rasprave o Studiji ...   \n",
       "3  16.12.2015. - OBJAVA javne rasprave o Studiji ...   \n",
       "4  05.11.2015. - OBJAVA javne rasprave o Studiji ...   \n",
       "\n",
       "                                                   2  \n",
       "0  /doc/18102016_-_obavijest_o_provedbi_javne_ras...  \n",
       "1  /doc/22092016_-_objava_javne_rasprave_o_studij...  \n",
       "2  /doc/19052016_-_objava_javne_rasprave_o_studij...  \n",
       "3  /doc/16122015_-_objava_javne_rasprave_o_studij...  \n",
       "4  /doc/05112015_-_informacija_o_pocetku_javne_ra...  "
      ]
     },
     "execution_count": 90,
     "metadata": {},
     "output_type": "execute_result"
    }
   ],
   "source": [
    "opem_z_pd.head(10)"
   ]
  },
  {
   "cell_type": "markdown",
   "metadata": {},
   "source": [
    "### Prethodne ocjene prihvatljivosti za ekološku mrežu"
   ]
  },
  {
   "cell_type": "code",
   "execution_count": 91,
   "metadata": {},
   "outputs": [],
   "source": [
    "prethodne = soup.find_all('div', 'accordion')[3]"
   ]
  },
  {
   "cell_type": "code",
   "execution_count": 92,
   "metadata": {},
   "outputs": [],
   "source": [
    "godpattern = re.compile(r\".*?(\\d{4}).*\")"
   ]
  },
  {
   "cell_type": "code",
   "execution_count": 93,
   "metadata": {},
   "outputs": [],
   "source": [
    "prethodne_god = prethodne.find_all('h3')\n",
    "prethodne_raw = []\n",
    "for god in prethodne_god:\n",
    "    dokumenti = god.next_sibling.next_sibling.find_all('a')\n",
    "    for dok in dokumenti:\n",
    "        red = [re.sub(godpattern,\n",
    "                      \"\\\\1\",\n",
    "                      god.get_text().strip()),\n",
    "               dok.get_text(),\n",
    "               dok.get('href')]\n",
    "        prethodne_raw.append(red)\n",
    "prethodne_pd = pd.DataFrame(prethodne_raw)"
   ]
  },
  {
   "cell_type": "code",
   "execution_count": 94,
   "metadata": {},
   "outputs": [
    {
     "data": {
      "text/html": [
       "<div>\n",
       "<style scoped>\n",
       "    .dataframe tbody tr th:only-of-type {\n",
       "        vertical-align: middle;\n",
       "    }\n",
       "\n",
       "    .dataframe tbody tr th {\n",
       "        vertical-align: top;\n",
       "    }\n",
       "\n",
       "    .dataframe thead th {\n",
       "        text-align: right;\n",
       "    }\n",
       "</style>\n",
       "<table border=\"1\" class=\"dataframe\">\n",
       "  <thead>\n",
       "    <tr style=\"text-align: right;\">\n",
       "      <th></th>\n",
       "      <th>0</th>\n",
       "      <th>1</th>\n",
       "      <th>2</th>\n",
       "    </tr>\n",
       "  </thead>\n",
       "  <tbody>\n",
       "    <tr>\n",
       "      <th>0</th>\n",
       "      <td>2018</td>\n",
       "      <td>02.03.2018. - Izgradnja peradarnika za uzgoj p...</td>\n",
       "      <td>/doc/02032018_-_izgradnja_peradarnika_za_uzgoj...</td>\n",
       "    </tr>\n",
       "    <tr>\n",
       "      <th>1</th>\n",
       "      <td>2018</td>\n",
       "      <td>27.02.2018. - Izgradnja drvene pješačke staze ...</td>\n",
       "      <td>/doc/27022018_-_izgradnja_drvene_pjesacke_staz...</td>\n",
       "    </tr>\n",
       "    <tr>\n",
       "      <th>2</th>\n",
       "      <td>2018</td>\n",
       "      <td>26.02.2018. - Prenamjena poljoprivrednog zemlj...</td>\n",
       "      <td>/doc/26022018_-_prenamjena_poljoprivrednog_zem...</td>\n",
       "    </tr>\n",
       "    <tr>\n",
       "      <th>3</th>\n",
       "      <td>2018</td>\n",
       "      <td>21.02.2018. - Županijska razvojna strategija P...</td>\n",
       "      <td>/doc/21022018_-_zupanijska_razvojna_strategija...</td>\n",
       "    </tr>\n",
       "    <tr>\n",
       "      <th>4</th>\n",
       "      <td>2018</td>\n",
       "      <td>16.02.2018. - Autocesta A7 dionica između čvor...</td>\n",
       "      <td>/doc/16022018_-_autocesta_a7_dionica_izmedu_cv...</td>\n",
       "    </tr>\n",
       "    <tr>\n",
       "      <th>5</th>\n",
       "      <td>2018</td>\n",
       "      <td>16.02.2018. - Uzgajalište školjaka u Blacama, ...</td>\n",
       "      <td>/doc/16022018_-_uzgajaliste_skoljaka_u_blacama...</td>\n",
       "    </tr>\n",
       "    <tr>\n",
       "      <th>6</th>\n",
       "      <td>2018</td>\n",
       "      <td>13.02.2018. - Rekonstrukcija (nadogradnja i pr...</td>\n",
       "      <td>/doc/13022018_-_rekonstrukcija_nadogradnja_i_p...</td>\n",
       "    </tr>\n",
       "    <tr>\n",
       "      <th>7</th>\n",
       "      <td>2018</td>\n",
       "      <td>09.02.2018. - III. Izmjene i dopune Prostornog...</td>\n",
       "      <td>/doc/09022018_-_iii_izmjene_i_dopune_prostorno...</td>\n",
       "    </tr>\n",
       "    <tr>\n",
       "      <th>8</th>\n",
       "      <td>2018</td>\n",
       "      <td>06.02.2018. - Prenamjena poljoprivrednog zemlj...</td>\n",
       "      <td>/doc/06022018_-_prenamjena_poljoprivrednog_zem...</td>\n",
       "    </tr>\n",
       "    <tr>\n",
       "      <th>9</th>\n",
       "      <td>2018</td>\n",
       "      <td>06.02.2018. - Transformatorska stanica KTS 10(...</td>\n",
       "      <td>/doc/06022018_-_transformatorska_stanica_kts_1...</td>\n",
       "    </tr>\n",
       "  </tbody>\n",
       "</table>\n",
       "</div>"
      ],
      "text/plain": [
       "      0                                                  1  \\\n",
       "0  2018  02.03.2018. - Izgradnja peradarnika za uzgoj p...   \n",
       "1  2018  27.02.2018. - Izgradnja drvene pješačke staze ...   \n",
       "2  2018  26.02.2018. - Prenamjena poljoprivrednog zemlj...   \n",
       "3  2018  21.02.2018. - Županijska razvojna strategija P...   \n",
       "4  2018  16.02.2018. - Autocesta A7 dionica između čvor...   \n",
       "5  2018  16.02.2018. - Uzgajalište školjaka u Blacama, ...   \n",
       "6  2018  13.02.2018. - Rekonstrukcija (nadogradnja i pr...   \n",
       "7  2018  09.02.2018. - III. Izmjene i dopune Prostornog...   \n",
       "8  2018  06.02.2018. - Prenamjena poljoprivrednog zemlj...   \n",
       "9  2018  06.02.2018. - Transformatorska stanica KTS 10(...   \n",
       "\n",
       "                                                   2  \n",
       "0  /doc/02032018_-_izgradnja_peradarnika_za_uzgoj...  \n",
       "1  /doc/27022018_-_izgradnja_drvene_pjesacke_staz...  \n",
       "2  /doc/26022018_-_prenamjena_poljoprivrednog_zem...  \n",
       "3  /doc/21022018_-_zupanijska_razvojna_strategija...  \n",
       "4  /doc/16022018_-_autocesta_a7_dionica_izmedu_cv...  \n",
       "5  /doc/16022018_-_uzgajaliste_skoljaka_u_blacama...  \n",
       "6  /doc/13022018_-_rekonstrukcija_nadogradnja_i_p...  \n",
       "7  /doc/09022018_-_iii_izmjene_i_dopune_prostorno...  \n",
       "8  /doc/06022018_-_prenamjena_poljoprivrednog_zem...  \n",
       "9  /doc/06022018_-_transformatorska_stanica_kts_1...  "
      ]
     },
     "execution_count": 94,
     "metadata": {},
     "output_type": "execute_result"
    }
   ],
   "source": [
    "prethodne_pd.head(10)"
   ]
  },
  {
   "cell_type": "markdown",
   "metadata": {},
   "source": [
    "## To do\n",
    "\n",
    " * Snimanje u .tsv tablice\n",
    " * Integracija u `puobot.py`\n",
    " * Twitter upload"
   ]
  }
 ],
 "metadata": {
  "kernelspec": {
   "display_name": "Python 3",
   "language": "python",
   "name": "python3"
  },
  "language_info": {
   "codemirror_mode": {
    "name": "ipython",
    "version": 3
   },
   "file_extension": ".py",
   "mimetype": "text/x-python",
   "name": "python",
   "nbconvert_exporter": "python",
   "pygments_lexer": "ipython3",
   "version": "3.6.2"
  }
 },
 "nbformat": 4,
 "nbformat_minor": 2
}
